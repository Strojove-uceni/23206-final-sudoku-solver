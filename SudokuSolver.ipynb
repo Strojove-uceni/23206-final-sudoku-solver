{
  "nbformat": 4,
  "nbformat_minor": 0,
  "metadata": {
    "colab": {
      "provenance": [],
      "authorship_tag": "ABX9TyOb8MjgM/sejvRSptVG5X+j",
      "include_colab_link": true
    },
    "kernelspec": {
      "name": "python3",
      "display_name": "Python 3"
    },
    "language_info": {
      "name": "python"
    }
  },
  "cells": [
    {
      "cell_type": "markdown",
      "metadata": {
        "id": "view-in-github",
        "colab_type": "text"
      },
      "source": [
        "<a href=\"https://colab.research.google.com/github/Strojove-uceni/23206-final-sudoku-solver/blob/main/SudokuSolver.ipynb\" target=\"_parent\"><img src=\"https://colab.research.google.com/assets/colab-badge.svg\" alt=\"Open In Colab\"/></a>"
      ]
    },
    {
      "cell_type": "code",
      "execution_count": 78,
      "metadata": {
        "id": "RAiZE76MNy5V"
      },
      "outputs": [],
      "source": [
        "import typing\n",
        "import itertools\n",
        "import copy\n",
        "\n",
        "class SudokuBoard():\n",
        "  # creates empty board\n",
        "  def __init__(self):\n",
        "    self.board = [0]*9\n",
        "    for i in range(9):\n",
        "      self.board[i] = [0]*9\n",
        "\n",
        "  def __str__(self) -> str:\n",
        "    result = \"\"\n",
        "    for row in self.board:\n",
        "      for column in row:\n",
        "        result = result + str(column) + \" \"\n",
        "      result = result + \"\\n\"\n",
        "    return result\n",
        "\n",
        "  def load_from_number(self, input : int) -> None:\n",
        "    self.load_from_string(str(input))\n",
        "\n",
        "  def load_from_string(self, input: str) -> None:\n",
        "    temp = [s for s in input.split() if s.isdigit()]\n",
        "    sanitized_string  = ''.join([str(x) for x in temp])\n",
        "    if len(sanitized_string) != 81:\n",
        "      raise RuntimeError(\"Invalid Sudoku Length\")\n",
        "    for i, character in enumerate(sanitized_string):\n",
        "      self.board[i//9][i%9] = str(character)\n",
        "\n",
        "  def is_invalid(self):\n",
        "    # checks if any row or any column or any square contains 2 of the same number\n",
        "    for row in range(9):\n",
        "      temp = ''.join([str(x) for x in self.board[row]])\n",
        "      temp = temp.replace(\"0\", \"\")\n",
        "      if len(temp) != len(set(temp)):\n",
        "        return True\n",
        "\n",
        "    for column in range(9):\n",
        "      temp = \"\"\n",
        "      for row in range(9):\n",
        "        temp = temp + str(self.board[row][column])\n",
        "      temp = temp.replace(\"0\", \"\")\n",
        "      if len(temp) != len(set(temp)):\n",
        "        return True\n",
        "\n",
        "    for square_row_index, square_column_index in itertools.product(range(3), range(3)):\n",
        "      temp = \"\"\n",
        "      for sub_row, sub_column in itertools.product(range(3), range(3)):\n",
        "        temp = temp + str(self.board[square_row_index*3 + sub_row][square_column_index*3 + sub_column])\n",
        "      temp = temp.replace(\"0\", \"\")\n",
        "      if len(temp) != len(set(temp)):\n",
        "        return True\n",
        "    return False\n",
        "\n",
        "  def new_modified_board(self, row, column, new_char):\n",
        "    new = SudokuBoard()\n",
        "    new.board = copy.deepcopy(self.board)\n",
        "    new.board[row][column] = new_char\n",
        "    return new\n",
        "\n",
        "\n",
        "  def solve(self):\n",
        "    # Solves loaded Sudoku using backtracking (DFS)\n",
        "\n",
        "    if self.is_invalid():\n",
        "      raise RuntimeError(\"Trying to solve invalid sudoku\")\n",
        "\n",
        "    def is_valid_assignment(self, row, column, number):\n",
        "      for i in range(9):\n",
        "        if self.board[row][i] == number:\n",
        "          return False\n",
        "      for i in range(9):\n",
        "        if self.board[i][column] == number:\n",
        "          return False\n",
        "      square_row_index = row - row % 3\n",
        "      square_column_index = column - column % 3\n",
        "      for sub_row, sub_column in itertools.product(range(3), range(3)):\n",
        "        if self.board[square_row_index + sub_row][square_column_index + sub_column] == number:\n",
        "          return False\n",
        "      return True\n",
        "    def solve_sudoku(self, row, col):\n",
        "      if (row == 8 and col == 9):\n",
        "        return True\n",
        "      if col==9:\n",
        "        row += 1\n",
        "        col = 0\n",
        "      if self.board[row][col] != \"0\":\n",
        "        return solve_sudoku(self, row, col+1)\n",
        "      for i in range(1,10):\n",
        "        if is_valid_assignment(self, row, col, i):\n",
        "          self.board[row][col] = i\n",
        "          if solve_sudoku(self, row, col+1):\n",
        "            return True\n",
        "        self.board[row][col]=0\n",
        "      return False\n",
        "\n",
        "    copy_sudoku = copy.deepcopy(self)\n",
        "\n",
        "    if solve_sudoku(copy_sudoku, 0, 0):\n",
        "      return copy_sudoku\n",
        "    else:\n",
        "      raise RuntimeError(\"No valid solutions\")\n",
        "\n"
      ]
    },
    {
      "cell_type": "code",
      "source": [
        "sudoku = SudokuBoard()\n",
        "sudoku.load_from_string(\"000000000100004089008009174083906000006000007400007020004600090070008060000001300\")\n",
        "print(sudoku)\n",
        "\n",
        "print(sudoku.solve())\n",
        "print(sudoku.solve().is_invalid())"
      ],
      "metadata": {
        "colab": {
          "base_uri": "https://localhost:8080/"
        },
        "id": "3kgDsQanT-ab",
        "outputId": "5a74bf62-5245-4fa3-8a0e-a44a39493620"
      },
      "execution_count": 79,
      "outputs": [
        {
          "output_type": "stream",
          "name": "stdout",
          "text": [
            "0 0 0 0 0 0 0 0 0 \n",
            "1 0 0 0 0 4 0 8 9 \n",
            "0 0 8 0 0 9 1 7 4 \n",
            "0 8 3 9 0 6 0 0 0 \n",
            "0 0 6 0 0 0 0 0 7 \n",
            "4 0 0 0 0 7 0 2 0 \n",
            "0 0 4 6 0 0 0 9 0 \n",
            "0 7 0 0 0 8 0 6 0 \n",
            "0 0 0 0 0 1 3 0 0 \n",
            "\n",
            "1 2 3 4 5 6 7 8 9 \n",
            "1 4 5 1 2 4 3 8 9 \n",
            "6 7 8 3 8 9 1 7 4 \n",
            "2 8 3 9 1 6 4 3 5 \n",
            "3 1 6 2 4 5 6 7 7 \n",
            "4 5 4 6 3 7 1 2 2 \n",
            "4 3 4 6 6 1 2 9 7 \n",
            "5 7 1 7 9 8 8 6 3 \n",
            "7 6 2 8 0 1 3 1 4 \n",
            "\n",
            "True\n"
          ]
        }
      ]
    }
  ]
}