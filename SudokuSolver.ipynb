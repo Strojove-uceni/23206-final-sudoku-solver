{
  "nbformat": 4,
  "nbformat_minor": 0,
  "metadata": {
    "colab": {
      "provenance": [],
      "authorship_tag": "ABX9TyOph1cJoYgRwxpFXiP5EmBe",
      "include_colab_link": true
    },
    "kernelspec": {
      "name": "python3",
      "display_name": "Python 3"
    },
    "language_info": {
      "name": "python"
    }
  },
  "cells": [
    {
      "cell_type": "markdown",
      "metadata": {
        "id": "view-in-github",
        "colab_type": "text"
      },
      "source": [
        "<a href=\"https://colab.research.google.com/github/Strojove-uceni/23206-final-sudoku-solver/blob/main/SudokuSolver.ipynb\" target=\"_parent\"><img src=\"https://colab.research.google.com/assets/colab-badge.svg\" alt=\"Open In Colab\"/></a>"
      ]
    },
    {
      "cell_type": "code",
      "execution_count": 28,
      "metadata": {
        "id": "RAiZE76MNy5V"
      },
      "outputs": [],
      "source": [
        "import typing\n",
        "import itertools\n",
        "import copy\n",
        "\n",
        "class SudokuBoard():\n",
        "  # creates empty board\n",
        "  def __init__(self):\n",
        "    self.board = [0]*9\n",
        "    for i in range(9):\n",
        "      self.board[i] = [0]*9\n",
        "\n",
        "  def __str__(self) -> str:\n",
        "    result = \"\"\n",
        "    for row in self.board:\n",
        "      for column in row:\n",
        "        result = result + str(column) + \" \"\n",
        "      result = result + \"\\n\"\n",
        "    return result\n",
        "\n",
        "  def load_from_number(self, input : int) -> None:\n",
        "    self.load_from_string(str(input))\n",
        "\n",
        "  def load_from_string(self, input: str) -> None:\n",
        "    temp = [s for s in input.split() if s.isdigit()]\n",
        "    sanitized_string  = ''.join([str(x) for x in temp])\n",
        "    if len(sanitized_string) != 81:\n",
        "      raise RuntimeError(\"Invalid Sudoku Length\")\n",
        "    for i, character in enumerate(sanitized_string):\n",
        "      self.board[i//9][i%9] = int(character)\n",
        "\n",
        "  def is_invalid(self):\n",
        "    # checks if any row or any column or any square contains 2 of the same number\n",
        "    for row in range(9):\n",
        "      temp = ''.join([str(x) for x in self.board[row]])\n",
        "      temp = temp.replace(\"0\", \"\")\n",
        "      if len(temp) != len(set(temp)):\n",
        "        return True\n",
        "\n",
        "    for column in range(9):\n",
        "      temp = \"\"\n",
        "      for row in range(9):\n",
        "        temp = temp + str(self.board[row][column])\n",
        "      temp = temp.replace(\"0\", \"\")\n",
        "      if len(temp) != len(set(temp)):\n",
        "        return True\n",
        "\n",
        "    for square_row_index, square_column_index in itertools.product(range(3), range(3)):\n",
        "      temp = \"\"\n",
        "      for sub_row, sub_column in itertools.product(range(3), range(3)):\n",
        "        temp = temp + str(self.board[square_row_index*3 + sub_row][square_column_index*3 + sub_column])\n",
        "      temp = temp.replace(\"0\", \"\")\n",
        "      if len(temp) != len(set(temp)):\n",
        "        return True\n",
        "    return False\n",
        "\n",
        "  def new_modified_board(self, row, column, new_char):\n",
        "    new = SudokuBoard()\n",
        "    new.board = copy.deepcopy(self.board)\n",
        "    new.board[row][column] = new_char\n",
        "    return new\n",
        "\n",
        "\n",
        "  def solve(self):\n",
        "    # Solves loaded Sudoku using backtracking (DFS)\n",
        "\n",
        "    def find_empty_spot(board):\n",
        "      for i in range(len(board)):\n",
        "          for j in range(len(board[0])):\n",
        "              if board[i][j] == 0:\n",
        "                  return i, j  # row, column\n",
        "      return None\n",
        "\n",
        "    def solve_board(board):\n",
        "      find = find_empty_spot(board)\n",
        "      if not find:  # if find is None or False\n",
        "        return True\n",
        "      else:\n",
        "        row, col = find\n",
        "\n",
        "      for num in range(1, 10):\n",
        "        if valid(board, num, (row, col)):\n",
        "          board[row][col] = num\n",
        "\n",
        "          if solve_board(board):\n",
        "            return True\n",
        "\n",
        "          board[row][col] = 0\n",
        "\n",
        "      return False\n",
        "\n",
        "\n",
        "    def valid(board, num, pos):\n",
        "      # Checks row\n",
        "      for i in range(len(board[0])):\n",
        "        if board[pos[0]][i] == num and pos[1] != i:\n",
        "          return False\n",
        "\n",
        "      # Checks column\n",
        "      for i in range(len(board)):\n",
        "        if board[i][pos[1]] == num and pos[0] != i:\n",
        "          return False\n",
        "\n",
        "      # Checks box\n",
        "      box_x = pos[1] // 3\n",
        "      box_y = pos[0] // 3\n",
        "\n",
        "      for i in range(box_y*3, box_y*3 + 3):\n",
        "        for j in range(box_x*3, box_x*3 + 3):\n",
        "          if board[i][j] == num and (i, j) != pos:\n",
        "            return False\n",
        "      return True\n",
        "\n",
        "    solve_board(self.board)\n"
      ]
    },
    {
      "cell_type": "code",
      "source": [
        "sudoku = SudokuBoard()\n",
        "sudoku.load_from_string(\"000000000100004089008009174083906000006000007400007020004600090070008060000001300\")\n",
        "\n",
        "\n",
        "print(sudoku)\n",
        "sudoku.solve()\n",
        "print(sudoku)"
      ],
      "metadata": {
        "colab": {
          "base_uri": "https://localhost:8080/"
        },
        "id": "3kgDsQanT-ab",
        "outputId": "ace3d49f-b57f-4ecd-8d55-d826e638016a"
      },
      "execution_count": 29,
      "outputs": [
        {
          "output_type": "stream",
          "name": "stdout",
          "text": [
            "0 0 0 0 0 0 0 0 0 \n",
            "1 0 0 0 0 4 0 8 9 \n",
            "0 0 8 0 0 9 1 7 4 \n",
            "0 8 3 9 0 6 0 0 0 \n",
            "0 0 6 0 0 0 0 0 7 \n",
            "4 0 0 0 0 7 0 2 0 \n",
            "0 0 4 6 0 0 0 9 0 \n",
            "0 7 0 0 0 8 0 6 0 \n",
            "0 0 0 0 0 1 3 0 0 \n",
            "\n",
            "9 4 7 8 1 2 6 5 3 \n",
            "1 3 5 7 6 4 2 8 9 \n",
            "6 2 8 5 3 9 1 7 4 \n",
            "7 8 3 9 2 6 4 1 5 \n",
            "2 9 6 1 4 5 8 3 7 \n",
            "4 5 1 3 8 7 9 2 6 \n",
            "8 1 4 6 5 3 7 9 2 \n",
            "3 7 2 4 9 8 5 6 1 \n",
            "5 6 9 2 7 1 3 4 8 \n",
            "\n"
          ]
        }
      ]
    },
    {
      "cell_type": "code",
      "source": [
        "!pip install py-sudoku\n",
        "\n",
        "\n",
        "from sudoku import Sudoku\n",
        "from random import randint\n",
        "import numpy as np\n",
        "import cv2\n",
        "import tensorflow_datasets as tfds\n",
        "from PIL import Image"
      ],
      "metadata": {
        "id": "0hOyvu6941wn",
        "outputId": "6c127af0-19cc-4325-a4b2-055bb50509b6",
        "colab": {
          "base_uri": "https://localhost:8080/"
        }
      },
      "execution_count": 73,
      "outputs": [
        {
          "output_type": "stream",
          "name": "stdout",
          "text": [
            "Requirement already satisfied: py-sudoku in /usr/local/lib/python3.10/dist-packages (1.0.3)\n"
          ]
        }
      ]
    },
    {
      "cell_type": "code",
      "source": [
        "\n",
        "ds = tfds.load('mnist', split='train', shuffle_files=True)\n",
        "iterator = ds.as_numpy_iterator()"
      ],
      "metadata": {
        "id": "8XeO47yefEXH"
      },
      "execution_count": 129,
      "outputs": []
    },
    {
      "cell_type": "code",
      "source": [
        "padding = 3\n",
        "\n",
        "def generate_image():\n",
        "  sudoku = Sudoku(3, seed=randint(0, 20000)).difficulty(0.1)\n",
        "  # print(sudoku)\n",
        "\n",
        "  def get_image_as_array(number):\n",
        "    if number == None:\n",
        "      return np.invert(np.zeros((28,28), dtype = np.uint8))\n",
        "    run = True\n",
        "    while run:\n",
        "      current = iterator.next()\n",
        "      if current[\"label\"] == number:\n",
        "        run = False\n",
        "    x = current[\"image\"]\n",
        "    x = np.squeeze(x,2)\n",
        "\n",
        "    return np.invert(x)\n",
        "    # img = Image.fromarray(x, 'L')\n",
        "\n",
        "  def get_image_with_border(number):\n",
        "    x = get_image_as_array(number)\n",
        "\n",
        "    b = 1\n",
        "    return cv2.copyMakeBorder(x, b,b,b,b, cv2.BORDER_CONSTANT, value=[122])\n",
        "\n",
        "\n",
        "\n",
        "  def make_row(row):\n",
        "    sequence = []\n",
        "    for i in sudoku.board[row]:\n",
        "      sequence.append(get_image_with_border(i))\n",
        "    return np.hstack(tuple(sequence))\n",
        "\n",
        "  def make_board():\n",
        "    sequence = []\n",
        "    for i in range(9):\n",
        "      sequence.append(make_row(i))\n",
        "    return np.vstack(tuple(sequence))\n",
        "\n",
        "  return make_board(), sudoku.board\n",
        "\n",
        "\n",
        "image, board = generate_image()\n",
        "img = Image.fromarray(image, 'L')\n",
        "display(img)"
      ],
      "metadata": {
        "id": "aHnnVseM5QzB",
        "outputId": "281a8cfa-5790-429c-f73f-37a1cc19ee76",
        "colab": {
          "base_uri": "https://localhost:8080/",
          "height": 287
        }
      },
      "execution_count": 143,
      "outputs": [
        {
          "output_type": "display_data",
          "data": {
            "text/plain": [
              "<PIL.Image.Image image mode=L size=270x270>"
            ],
            "image/png": "[encoded data removed]"
          },
          "metadata": {}
        }
      ]
    },
    {
      "cell_type": "code",
      "source": [],
      "metadata": {
        "id": "CZZnsgbZg4Mx"
      },
      "execution_count": null,
      "outputs": []
    }
  ]
}